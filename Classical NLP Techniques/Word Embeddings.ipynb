{
 "cells": [
  {
   "cell_type": "code",
   "execution_count": 1,
   "id": "1b8c5331-fcfc-4201-97b7-a35add86fc3f",
   "metadata": {},
   "outputs": [],
   "source": [
    "import gensim\n",
    "from gensim.models import Word2Vec\n",
    "import nltk\n",
    "from nltk.tokenize import word_tokenize\n",
    "from nltk.corpus import stopwords\n",
    "import string"
   ]
  },
  {
   "cell_type": "code",
   "execution_count": 2,
   "id": "124b1257-227b-4b52-909d-d873a235949d",
   "metadata": {},
   "outputs": [
    {
     "name": "stderr",
     "output_type": "stream",
     "text": [
      "[nltk_data] Downloading package punkt to\n",
      "[nltk_data]     C:\\Users\\sunny\\AppData\\Roaming\\nltk_data...\n",
      "[nltk_data]   Package punkt is already up-to-date!\n",
      "[nltk_data] Downloading package stopwords to\n",
      "[nltk_data]     C:\\Users\\sunny\\AppData\\Roaming\\nltk_data...\n",
      "[nltk_data]   Package stopwords is already up-to-date!\n"
     ]
    },
    {
     "data": {
      "text/plain": [
       "True"
      ]
     },
     "execution_count": 2,
     "metadata": {},
     "output_type": "execute_result"
    }
   ],
   "source": [
    "nltk.download('punkt')\n",
    "nltk.download('stopwords')"
   ]
  },
  {
   "cell_type": "code",
   "execution_count": 3,
   "id": "2c34874b-3126-4045-b99d-5f550aeaf308",
   "metadata": {},
   "outputs": [],
   "source": [
    "corpus = [\n",
    "    \"Deep learning models require large amounts of data.\",\n",
    "    \"Machine learning algorithms use statistical methods.\",\n",
    "    \"Neural networks are a key part of deep learning.\",\n",
    "    \"Word embeddings capture semantic relationships.\",\n",
    "    \"Text preprocessing is crucial in NLP tasks.\"\n",
    "]"
   ]
  },
  {
   "cell_type": "code",
   "execution_count": 7,
   "id": "6e10e547-17d5-442f-9235-318936ec63a2",
   "metadata": {},
   "outputs": [
    {
     "name": "stdout",
     "output_type": "stream",
     "text": [
      "[['deep', 'learning', 'models', 'require', 'large', 'amounts', 'data'], ['machine', 'learning', 'algorithms', 'use', 'statistical', 'methods'], ['neural', 'networks', 'key', 'part', 'deep', 'learning'], ['word', 'embeddings', 'capture', 'semantic', 'relationships'], ['text', 'preprocessing', 'crucial', 'nlp', 'tasks']]\n"
     ]
    }
   ],
   "source": [
    "def preprocess_text(text):\n",
    "    text = text.lower()\n",
    "    tokens = word_tokenize(text)\n",
    "    tokens = [word for word in tokens if word.isalnum() and word not in stopwords.words(\"english\")]\n",
    "    return tokens\n",
    "\n",
    "tokenized_corpus = [preprocess_text(sentence) for sentence in corpus]\n",
    "print(tokenized_corpus)"
   ]
  },
  {
   "cell_type": "code",
   "execution_count": 8,
   "id": "b19502a5-c20a-4fcd-b13e-f3f4ff66b48b",
   "metadata": {},
   "outputs": [
    {
     "name": "stdout",
     "output_type": "stream",
     "text": [
      "[('part', 0.21883943676948547), ('algorithms', 0.21617142856121063), ('methods', 0.09307762235403061), ('data', 0.09291502833366394), ('semantic', 0.08403423428535461), ('statistical', 0.07961954921483994), ('relationships', 0.06432007998228073), ('use', 0.06285078823566437), ('key', 0.054324161261320114), ('machine', 0.027035264298319817)]\n"
     ]
    }
   ],
   "source": [
    "# Train Word2Vec\n",
    "model = Word2Vec(sentences=tokenized_corpus, vector_size=100, window=5, min_count=1, workers=4)\n",
    "\n",
    "# Save and load model\n",
    "model.save(\"word2vec.model\")\n",
    "model = Word2Vec.load(\"word2vec.model\")\n",
    "\n",
    "# Check word similarity\n",
    "print(model.wv.most_similar(\"learning\"))\n"
   ]
  },
  {
   "cell_type": "code",
   "execution_count": null,
   "id": "60672e72-f32f-4e0c-a48e-aa8d0a04d73b",
   "metadata": {},
   "outputs": [],
   "source": []
  }
 ],
 "metadata": {
  "kernelspec": {
   "display_name": "Python 3 (ipykernel)",
   "language": "python",
   "name": "python3"
  },
  "language_info": {
   "codemirror_mode": {
    "name": "ipython",
    "version": 3
   },
   "file_extension": ".py",
   "mimetype": "text/x-python",
   "name": "python",
   "nbconvert_exporter": "python",
   "pygments_lexer": "ipython3",
   "version": "3.8.20"
  }
 },
 "nbformat": 4,
 "nbformat_minor": 5
}
