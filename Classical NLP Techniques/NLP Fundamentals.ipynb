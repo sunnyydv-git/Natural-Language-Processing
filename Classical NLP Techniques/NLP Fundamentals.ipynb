{
 "cells": [
  {
   "cell_type": "code",
   "execution_count": 1,
   "id": "fe44e516-dcc9-4b28-8322-931599420deb",
   "metadata": {},
   "outputs": [],
   "source": [
    "import nltk\n",
    "from nltk.tokenize import word_tokenize, sent_tokenize"
   ]
  },
  {
   "cell_type": "code",
   "execution_count": 2,
   "id": "6c8cef62-7f5e-4172-8fa5-0d5440b93ab8",
   "metadata": {},
   "outputs": [
    {
     "name": "stderr",
     "output_type": "stream",
     "text": [
      "[nltk_data] Downloading package punkt to\n",
      "[nltk_data]     C:\\Users\\sunny\\AppData\\Roaming\\nltk_data...\n",
      "[nltk_data]   Package punkt is already up-to-date!\n"
     ]
    },
    {
     "data": {
      "text/plain": [
       "True"
      ]
     },
     "execution_count": 2,
     "metadata": {},
     "output_type": "execute_result"
    }
   ],
   "source": [
    "nltk.download('punkt')"
   ]
  },
  {
   "cell_type": "markdown",
   "id": "5e4e7e20-531f-49d6-a1ad-33584a852c5b",
   "metadata": {},
   "source": [
    "#### Tokenization using NLTK "
   ]
  },
  {
   "cell_type": "code",
   "execution_count": 4,
   "id": "48359bf6-6a4a-411b-9784-a96570f7003b",
   "metadata": {},
   "outputs": [
    {
     "name": "stdout",
     "output_type": "stream",
     "text": [
      "Word Tokenization :  ['Natural', 'Language', 'Processing', '(', 'NLP', ')', 'is', 'an', 'exciting', 'field', 'of', 'AI', '.', 'It', 'enables', 'computers', 'to', 'understand', 'human', 'language', '.']\n",
      "\n",
      "Sentence Tokenization: ['Natural Language Processing (NLP) is an exciting field of AI.', 'It enables computers to understand human language.']\n"
     ]
    }
   ],
   "source": [
    "text = \"Natural Language Processing (NLP) is an exciting field of AI. It enables computers to understand human language.\"\n",
    "\n",
    "# word tokenize\n",
    "word_tokens = word_tokenize(text)\n",
    "print(\"Word Tokenization : \", word_tokens)\n",
    "print()\n",
    "# sentence tokenization\n",
    "sent_tokens = sent_tokenize(text)\n",
    "print(\"Sentence Tokenization:\", sent_tokens)"
   ]
  },
  {
   "cell_type": "markdown",
   "id": "e945c70a-cace-4db7-9cef-9cb1d49a3b90",
   "metadata": {},
   "source": [
    "#### Removing Stopwords"
   ]
  },
  {
   "cell_type": "code",
   "execution_count": 5,
   "id": "2d985dcb-cd2b-4031-8221-60678d67681f",
   "metadata": {},
   "outputs": [
    {
     "name": "stderr",
     "output_type": "stream",
     "text": [
      "[nltk_data] Downloading package stopwords to\n",
      "[nltk_data]     C:\\Users\\sunny\\AppData\\Roaming\\nltk_data...\n"
     ]
    },
    {
     "name": "stdout",
     "output_type": "stream",
     "text": [
      "Filtered Words (After Stopword Removal): ['Natural', 'Language', 'Processing', '(', 'NLP', ')', 'exciting', 'field', 'AI', '.', 'enables', 'computers', 'understand', 'human', 'language', '.']\n"
     ]
    },
    {
     "name": "stderr",
     "output_type": "stream",
     "text": [
      "[nltk_data]   Unzipping corpora\\stopwords.zip.\n"
     ]
    }
   ],
   "source": [
    "from nltk.corpus import stopwords\n",
    "\n",
    "nltk.download('stopwords')\n",
    "\n",
    "stop_words = set(stopwords.words('english'))\n",
    "filtered_words = [word for word in word_tokens if word.lower() not in stop_words]\n",
    "\n",
    "print(\"Filtered Words (After Stopword Removal):\", filtered_words)"
   ]
  },
  {
   "cell_type": "markdown",
   "id": "5840bb81-fd46-4508-88e4-ac2c2a42328e",
   "metadata": {},
   "source": [
    "#### Stemming vs. Lemmatization"
   ]
  },
  {
   "cell_type": "code",
   "execution_count": 6,
   "id": "781e2f10-3714-4c00-9313-419e19da0e26",
   "metadata": {},
   "outputs": [
    {
     "name": "stdout",
     "output_type": "stream",
     "text": [
      "Stemmed Words: ['natur', 'languag', 'process', '(', 'nlp', ')', 'excit', 'field', 'ai', '.', 'enabl', 'comput', 'understand', 'human', 'languag', '.']\n"
     ]
    }
   ],
   "source": [
    "# stemming\n",
    "from nltk.stem import PorterStemmer\n",
    "\n",
    "stemmer = PorterStemmer()\n",
    "stemmed_words = [stemmer.stem(word) for word in filtered_words]\n",
    "\n",
    "print(\"Stemmed Words:\", stemmed_words)"
   ]
  },
  {
   "cell_type": "markdown",
   "id": "2d038aa1-135a-44ee-a139-37821847d6af",
   "metadata": {},
   "source": [
    "#### Feature Extraction: Bag of Words (BoW)"
   ]
  },
  {
   "cell_type": "code",
   "execution_count": 11,
   "id": "6aec226e-ae52-4c1b-96bb-047ba19e8550",
   "metadata": {},
   "outputs": [
    {
     "name": "stdout",
     "output_type": "stream",
     "text": [
      "Feature Names: ['ai' 'and' 'chatbots' 'fun' 'is' 'modern' 'nlp' 'of' 'power' 'subfield']\n",
      "Bag of Words Matrix:\n",
      " [[0 0 0 1 1 0 1 0 0 0]\n",
      " [1 0 0 0 1 0 1 1 0 1]\n",
      " [1 1 1 0 0 1 1 0 1 0]]\n"
     ]
    }
   ],
   "source": [
    "from sklearn.feature_extraction.text import CountVectorizer\n",
    "\n",
    "corpus = [\n",
    "    \"NLP is fun.\",\n",
    "    \"NLP is a subfield of AI.\",\n",
    "    \"AI and NLP power modern chatbots.\"\n",
    "]\n",
    "\n",
    "vectorizer = CountVectorizer()\n",
    "X = vectorizer.fit_transform(corpus)\n",
    "\n",
    "print(\"Feature Names:\", vectorizer.get_feature_names_out())\n",
    "print(\"Bag of Words Matrix:\\n\", X.toarray())\n"
   ]
  },
  {
   "cell_type": "markdown",
   "id": "bf5cd840-e382-40f1-90fc-e23112c73e55",
   "metadata": {},
   "source": [
    "#### Feature Extraction: TF-IDF"
   ]
  },
  {
   "cell_type": "code",
   "execution_count": 12,
   "id": "f085bb4d-9d4b-4996-b4df-e42f89da5fd5",
   "metadata": {},
   "outputs": [
    {
     "name": "stdout",
     "output_type": "stream",
     "text": [
      "TF-IDF Feature Names: ['ai' 'and' 'chatbots' 'fun' 'is' 'modern' 'nlp' 'of' 'power' 'subfield']\n",
      "TF-IDF Matrix:\n",
      " [[0.         0.         0.         0.72033345 0.54783215 0.\n",
      "  0.42544054 0.         0.         0.        ]\n",
      " [0.40619178 0.         0.         0.         0.40619178 0.\n",
      "  0.31544415 0.53409337 0.         0.53409337]\n",
      " [0.34261996 0.45050407 0.45050407 0.         0.         0.45050407\n",
      "  0.26607496 0.         0.45050407 0.        ]]\n"
     ]
    }
   ],
   "source": [
    "from sklearn.feature_extraction.text import TfidfVectorizer\n",
    "\n",
    "tfidf_vectorizer = TfidfVectorizer()\n",
    "X_tfidf = tfidf_vectorizer.fit_transform(corpus)\n",
    "\n",
    "print(\"TF-IDF Feature Names:\", tfidf_vectorizer.get_feature_names_out())\n",
    "print(\"TF-IDF Matrix:\\n\", X_tfidf.toarray())\n"
   ]
  },
  {
   "cell_type": "code",
   "execution_count": null,
   "id": "b1c7aa65-a792-4e96-81da-8e7cc9d97749",
   "metadata": {},
   "outputs": [],
   "source": []
  }
 ],
 "metadata": {
  "kernelspec": {
   "display_name": "Python 3 (ipykernel)",
   "language": "python",
   "name": "python3"
  },
  "language_info": {
   "codemirror_mode": {
    "name": "ipython",
    "version": 3
   },
   "file_extension": ".py",
   "mimetype": "text/x-python",
   "name": "python",
   "nbconvert_exporter": "python",
   "pygments_lexer": "ipython3",
   "version": "3.8.20"
  }
 },
 "nbformat": 4,
 "nbformat_minor": 5
}
